{
 "cells": [
  {
   "cell_type": "code",
   "execution_count": 4,
   "id": "7f16f52b",
   "metadata": {},
   "outputs": [],
   "source": [
    "import pandas as pd\n",
    "import numpy as np\n",
    "import matplotlib.pyplot as plt\n",
    "from statsmodels.tsa.arima.model import ARIMA\n",
    "from sklearn.metrics import mean_absolute_error, mean_squared_error"
   ]
  },
  {
   "cell_type": "code",
   "execution_count": 48,
   "id": "2083ea48",
   "metadata": {},
   "outputs": [],
   "source": [
    "# Load the dataset\n",
    "dataset = pd.read_excel(\"data_electricity.xlsx\", parse_dates=['datetime'], index_col='datetime')"
   ]
  },
  {
   "cell_type": "code",
   "execution_count": 49,
   "id": "dfbb80e3",
   "metadata": {
    "scrolled": false
   },
   "outputs": [
    {
     "data": {
      "text/html": [
       "<div>\n",
       "<style scoped>\n",
       "    .dataframe tbody tr th:only-of-type {\n",
       "        vertical-align: middle;\n",
       "    }\n",
       "\n",
       "    .dataframe tbody tr th {\n",
       "        vertical-align: top;\n",
       "    }\n",
       "\n",
       "    .dataframe thead th {\n",
       "        text-align: right;\n",
       "    }\n",
       "</style>\n",
       "<table border=\"1\" class=\"dataframe\">\n",
       "  <thead>\n",
       "    <tr style=\"text-align: right;\">\n",
       "      <th></th>\n",
       "      <th>megawatt</th>\n",
       "    </tr>\n",
       "    <tr>\n",
       "      <th>datetime</th>\n",
       "      <th></th>\n",
       "    </tr>\n",
       "  </thead>\n",
       "  <tbody>\n",
       "    <tr>\n",
       "      <th>2023-01-25 00:00:00</th>\n",
       "      <td>17483</td>\n",
       "    </tr>\n",
       "    <tr>\n",
       "      <th>2023-01-25 00:15:00</th>\n",
       "      <td>22639</td>\n",
       "    </tr>\n",
       "    <tr>\n",
       "      <th>2023-01-25 00:30:00</th>\n",
       "      <td>22471</td>\n",
       "    </tr>\n",
       "    <tr>\n",
       "      <th>2023-01-25 00:45:00</th>\n",
       "      <td>25006</td>\n",
       "    </tr>\n",
       "    <tr>\n",
       "      <th>2023-01-25 01:00:00</th>\n",
       "      <td>19536</td>\n",
       "    </tr>\n",
       "  </tbody>\n",
       "</table>\n",
       "</div>"
      ],
      "text/plain": [
       "                     megawatt\n",
       "datetime                     \n",
       "2023-01-25 00:00:00     17483\n",
       "2023-01-25 00:15:00     22639\n",
       "2023-01-25 00:30:00     22471\n",
       "2023-01-25 00:45:00     25006\n",
       "2023-01-25 01:00:00     19536"
      ]
     },
     "execution_count": 49,
     "metadata": {},
     "output_type": "execute_result"
    }
   ],
   "source": [
    "dataset.head()"
   ]
  },
  {
   "cell_type": "code",
   "execution_count": null,
   "id": "eaf74ee2",
   "metadata": {},
   "outputs": [],
   "source": [
    "data"
   ]
  },
  {
   "cell_type": "code",
   "execution_count": 50,
   "id": "d222867a",
   "metadata": {},
   "outputs": [],
   "source": [
    "dataset = dataset.sort_values('datetime')"
   ]
  },
  {
   "cell_type": "code",
   "execution_count": 51,
   "id": "f25edf36",
   "metadata": {},
   "outputs": [
    {
     "name": "stdout",
     "output_type": "stream",
     "text": [
      "                     megawatt\n",
      "datetime                     \n",
      "2023-01-25 00:00:00     17483\n",
      "2023-01-25 00:15:00     22639\n",
      "2023-01-25 00:30:00     22471\n",
      "2023-01-25 00:45:00     25006\n",
      "2023-01-25 01:00:00     19536\n",
      "...                       ...\n",
      "2023-02-28 22:45:00     13384\n",
      "2023-02-28 23:00:00     25574\n",
      "2023-02-28 23:15:00     17426\n",
      "2023-02-28 23:30:00     10352\n",
      "2023-02-28 23:45:00     16228\n",
      "\n",
      "[3360 rows x 1 columns]\n",
      "                     megawatt\n",
      "datetime                     \n",
      "2023-03-01 00:00:00     18295\n",
      "2023-03-01 00:15:00     13195\n",
      "2023-03-01 00:30:00     22974\n",
      "2023-03-01 00:45:00     20138\n",
      "2023-03-01 01:00:00     19636\n",
      "...                       ...\n",
      "2023-03-17 23:00:00     15338\n",
      "2023-03-17 23:15:00     18101\n",
      "2023-03-17 23:30:00     25620\n",
      "2023-03-17 23:45:00     18518\n",
      "2023-03-18 00:00:00     11202\n",
      "\n",
      "[1633 rows x 1 columns]\n"
     ]
    }
   ],
   "source": [
    "# split into train and test\n",
    "cutoff_date = '2023-03-01'\n",
    "train = dataset[dataset.index < cutoff_date]\n",
    "test = dataset[dataset.index >= cutoff_date]\n",
    "\n",
    "print(train)\n",
    "print(test)"
   ]
  },
  {
   "cell_type": "code",
   "execution_count": 52,
   "id": "540506c4",
   "metadata": {
    "scrolled": false
   },
   "outputs": [
    {
     "name": "stderr",
     "output_type": "stream",
     "text": [
      "C:\\Users\\USER\\anaconda3\\lib\\site-packages\\statsmodels\\tsa\\base\\tsa_model.py:471: ValueWarning: No frequency information was provided, so inferred frequency 15T will be used.\n",
      "  self._init_dates(dates, freq)\n",
      "C:\\Users\\USER\\anaconda3\\lib\\site-packages\\statsmodels\\tsa\\base\\tsa_model.py:471: ValueWarning: No frequency information was provided, so inferred frequency 15T will be used.\n",
      "  self._init_dates(dates, freq)\n",
      "C:\\Users\\USER\\anaconda3\\lib\\site-packages\\statsmodels\\tsa\\base\\tsa_model.py:471: ValueWarning: No frequency information was provided, so inferred frequency 15T will be used.\n",
      "  self._init_dates(dates, freq)\n"
     ]
    }
   ],
   "source": [
    "# Train the ARIMA model\n",
    "model = ARIMA(train, order=(2, 1, 2)) # (p,d,q) = (2,1,2)\n",
    "model_fit = model.fit()"
   ]
  },
  {
   "cell_type": "code",
   "execution_count": 53,
   "id": "a99653e6",
   "metadata": {},
   "outputs": [
    {
     "name": "stdout",
     "output_type": "stream",
     "text": [
      "2023-03-01 00:00:00    17538.582152\n",
      "2023-03-01 00:15:00    17510.322622\n",
      "2023-03-01 00:30:00    17509.592691\n",
      "2023-03-01 00:45:00    17508.302397\n",
      "2023-03-01 01:00:00    17507.029190\n",
      "                           ...     \n",
      "2023-03-17 23:00:00    17210.012425\n",
      "2023-03-17 23:15:00    17210.011199\n",
      "2023-03-17 23:30:00    17210.009978\n",
      "2023-03-17 23:45:00    17210.008762\n",
      "2023-03-18 00:00:00    17210.007551\n",
      "Freq: 15T, Name: predicted_mean, Length: 1633, dtype: float64\n"
     ]
    }
   ],
   "source": [
    "# Make predictions on the testing data\n",
    "predictions = model_fit.predict(start=test.index[0], end=test.index[-1], dynamic=False)\n",
    "\n",
    "# Print the predicted values\n",
    "print(predictions)"
   ]
  },
  {
   "cell_type": "code",
   "execution_count": 27,
   "id": "59b9284d",
   "metadata": {},
   "outputs": [],
   "source": [
    "test = test.drop('megawatt',axis=1)"
   ]
  },
  {
   "cell_type": "code",
   "execution_count": 41,
   "id": "f7fb7266",
   "metadata": {},
   "outputs": [],
   "source": [
    "# Make predictions on the testing set\n",
    "predictions = model_fit.forecast(steps=len(test))[1]\n"
   ]
  },
  {
   "cell_type": "code",
   "execution_count": 69,
   "id": "c43d167a",
   "metadata": {},
   "outputs": [
    {
     "name": "stdout",
     "output_type": "stream",
     "text": [
      "2023-03-01 00:00:00    17538.582152\n",
      "2023-03-01 00:15:00    17510.322622\n",
      "2023-03-01 00:30:00    17509.592691\n",
      "2023-03-01 00:45:00    17508.302397\n",
      "2023-03-01 01:00:00    17507.029190\n",
      "                           ...     \n",
      "2023-03-17 23:00:00    17210.012425\n",
      "2023-03-17 23:15:00    17210.011199\n",
      "2023-03-17 23:30:00    17210.009978\n",
      "2023-03-17 23:45:00    17210.008762\n",
      "2023-03-18 00:00:00    17210.007551\n",
      "Freq: 15T, Name: predicted_mean, Length: 1633, dtype: float64\n"
     ]
    }
   ],
   "source": [
    "print(predictions)"
   ]
  },
  {
   "cell_type": "code",
   "execution_count": 56,
   "id": "0ff57d00",
   "metadata": {},
   "outputs": [
    {
     "name": "stdout",
     "output_type": "stream",
     "text": [
      "(1633, 1)\n"
     ]
    }
   ],
   "source": [
    "print(test.shape)"
   ]
  },
  {
   "cell_type": "code",
   "execution_count": 55,
   "id": "d65823c4",
   "metadata": {},
   "outputs": [
    {
     "name": "stdout",
     "output_type": "stream",
     "text": [
      "(3360, 1)\n"
     ]
    }
   ],
   "source": [
    "print(train.shape)"
   ]
  },
  {
   "cell_type": "code",
   "execution_count": 54,
   "id": "67c2b05e",
   "metadata": {},
   "outputs": [
    {
     "name": "stdout",
     "output_type": "stream",
     "text": [
      "(1633,)\n"
     ]
    }
   ],
   "source": [
    "print(predictions.shape)"
   ]
  },
  {
   "cell_type": "code",
   "execution_count": 57,
   "id": "5c9f8bb5",
   "metadata": {
    "scrolled": true
   },
   "outputs": [
    {
     "name": "stdout",
     "output_type": "stream",
     "text": [
      "MAE:  4142.103839328284\n",
      "MSE:  22558049.648109473\n",
      "RMSE:  4749.5315188036675\n"
     ]
    }
   ],
   "source": [
    "# Evaluate the performance of the model using MAE, MSE, and RMSE\n",
    "mae = mean_absolute_error(test, predictions)\n",
    "mse = mean_squared_error(test, predictions)\n",
    "rmse = np.sqrt(mse)\n",
    "\n",
    "print(\"MAE: \", mae)\n",
    "print(\"MSE: \", mse)\n",
    "print(\"RMSE: \", rmse)"
   ]
  },
  {
   "cell_type": "code",
   "execution_count": 78,
   "id": "03735567",
   "metadata": {},
   "outputs": [
    {
     "name": "stdout",
     "output_type": "stream",
     "text": [
      "Predicted values for the next 10 steps: 17538.5821520811\n"
     ]
    }
   ],
   "source": [
    "n_steps = 10\n",
    "forecast = model_fit.forecast(steps=n_steps)\n",
    "\n",
    "# Print the predicted values\n",
    "print(\"Predicted values for the next {} steps: {}\".format(n_steps, forecast[0]))"
   ]
  },
  {
   "cell_type": "code",
   "execution_count": 79,
   "id": "32138bc0",
   "metadata": {
    "scrolled": false
   },
   "outputs": [
    {
     "name": "stdout",
     "output_type": "stream",
     "text": [
      "            forecasted_megawatt\n",
      "2023-03-25         17538.582152\n",
      "2023-03-26         17538.582152\n",
      "2023-03-27         17538.582152\n",
      "2023-03-28         17538.582152\n",
      "2023-03-29         17538.582152\n",
      "2023-03-30         17538.582152\n",
      "2023-03-31         17538.582152\n",
      "2023-04-01         17538.582152\n",
      "2023-04-02         17538.582152\n",
      "2023-04-03         17538.582152\n",
      "2023-04-04         17538.582152\n",
      "2023-04-05         17538.582152\n",
      "2023-04-06         17538.582152\n",
      "2023-04-07         17538.582152\n",
      "2023-04-08         17538.582152\n",
      "2023-04-09         17538.582152\n",
      "2023-04-10         17538.582152\n",
      "2023-04-11         17538.582152\n",
      "2023-04-12         17538.582152\n",
      "2023-04-13         17538.582152\n",
      "2023-04-14         17538.582152\n",
      "2023-04-15         17538.582152\n",
      "2023-04-16         17538.582152\n",
      "2023-04-17         17538.582152\n",
      "2023-04-18         17538.582152\n"
     ]
    }
   ],
   "source": [
    "# Forecast future values\n",
    "forecast = model_fit.forecast(steps=50)[0]\n",
    "\n",
    "# Convert to DataFrame\n",
    "forecast_df = pd.DataFrame(forecast, index=pd.date_range(start='2023-03-25 00:00:00', periods=25, freq='24H'), columns=['forecasted_kilowatt'])\n",
    "\n",
    "# Print the forecasted values\n",
    "print(forecast_df)"
   ]
  },
  {
   "cell_type": "code",
   "execution_count": 1,
   "id": "a09f5d31",
   "metadata": {},
   "outputs": [
    {
     "ename": "NameError",
     "evalue": "name 'forecast_df' is not defined",
     "output_type": "error",
     "traceback": [
      "\u001b[1;31m---------------------------------------------------------------------------\u001b[0m",
      "\u001b[1;31mNameError\u001b[0m                                 Traceback (most recent call last)",
      "Cell \u001b[1;32mIn[1], line 1\u001b[0m\n\u001b[1;32m----> 1\u001b[0m \u001b[43mforecast_df\u001b[49m\n",
      "\u001b[1;31mNameError\u001b[0m: name 'forecast_df' is not defined"
     ]
    }
   ],
   "source": [
    "forecast_df"
   ]
  },
  {
   "cell_type": "code",
   "execution_count": 86,
   "id": "08f09440",
   "metadata": {
    "collapsed": true
   },
   "outputs": [
    {
     "ename": "KeyError",
     "evalue": "\"['megawatt'] not in index\"",
     "output_type": "error",
     "traceback": [
      "\u001b[1;31m---------------------------------------------------------------------------\u001b[0m",
      "\u001b[1;31mKeyError\u001b[0m                                  Traceback (most recent call last)",
      "Cell \u001b[1;32mIn[86], line 1\u001b[0m\n\u001b[1;32m----> 1\u001b[0m \u001b[43mforecast_df\u001b[49m\u001b[43m[\u001b[49m\u001b[43m[\u001b[49m\u001b[38;5;124;43m'\u001b[39;49m\u001b[38;5;124;43mmegawatt\u001b[39;49m\u001b[38;5;124;43m'\u001b[39;49m\u001b[43m,\u001b[49m\u001b[38;5;124;43m'\u001b[39;49m\u001b[38;5;124;43mforecasted_megawatt\u001b[39;49m\u001b[38;5;124;43m'\u001b[39;49m\u001b[43m]\u001b[49m\u001b[43m]\u001b[49m\u001b[38;5;241m.\u001b[39mplot(figsize\u001b[38;5;241m=\u001b[39m(\u001b[38;5;241m12\u001b[39m,\u001b[38;5;241m8\u001b[39m))\n",
      "File \u001b[1;32m~\\anaconda3\\lib\\site-packages\\pandas\\core\\frame.py:3813\u001b[0m, in \u001b[0;36mDataFrame.__getitem__\u001b[1;34m(self, key)\u001b[0m\n\u001b[0;32m   3811\u001b[0m     \u001b[38;5;28;01mif\u001b[39;00m is_iterator(key):\n\u001b[0;32m   3812\u001b[0m         key \u001b[38;5;241m=\u001b[39m \u001b[38;5;28mlist\u001b[39m(key)\n\u001b[1;32m-> 3813\u001b[0m     indexer \u001b[38;5;241m=\u001b[39m \u001b[38;5;28;43mself\u001b[39;49m\u001b[38;5;241;43m.\u001b[39;49m\u001b[43mcolumns\u001b[49m\u001b[38;5;241;43m.\u001b[39;49m\u001b[43m_get_indexer_strict\u001b[49m\u001b[43m(\u001b[49m\u001b[43mkey\u001b[49m\u001b[43m,\u001b[49m\u001b[43m \u001b[49m\u001b[38;5;124;43m\"\u001b[39;49m\u001b[38;5;124;43mcolumns\u001b[39;49m\u001b[38;5;124;43m\"\u001b[39;49m\u001b[43m)\u001b[49m[\u001b[38;5;241m1\u001b[39m]\n\u001b[0;32m   3815\u001b[0m \u001b[38;5;66;03m# take() does not accept boolean indexers\u001b[39;00m\n\u001b[0;32m   3816\u001b[0m \u001b[38;5;28;01mif\u001b[39;00m \u001b[38;5;28mgetattr\u001b[39m(indexer, \u001b[38;5;124m\"\u001b[39m\u001b[38;5;124mdtype\u001b[39m\u001b[38;5;124m\"\u001b[39m, \u001b[38;5;28;01mNone\u001b[39;00m) \u001b[38;5;241m==\u001b[39m \u001b[38;5;28mbool\u001b[39m:\n",
      "File \u001b[1;32m~\\anaconda3\\lib\\site-packages\\pandas\\core\\indexes\\base.py:6070\u001b[0m, in \u001b[0;36mIndex._get_indexer_strict\u001b[1;34m(self, key, axis_name)\u001b[0m\n\u001b[0;32m   6067\u001b[0m \u001b[38;5;28;01melse\u001b[39;00m:\n\u001b[0;32m   6068\u001b[0m     keyarr, indexer, new_indexer \u001b[38;5;241m=\u001b[39m \u001b[38;5;28mself\u001b[39m\u001b[38;5;241m.\u001b[39m_reindex_non_unique(keyarr)\n\u001b[1;32m-> 6070\u001b[0m \u001b[38;5;28;43mself\u001b[39;49m\u001b[38;5;241;43m.\u001b[39;49m\u001b[43m_raise_if_missing\u001b[49m\u001b[43m(\u001b[49m\u001b[43mkeyarr\u001b[49m\u001b[43m,\u001b[49m\u001b[43m \u001b[49m\u001b[43mindexer\u001b[49m\u001b[43m,\u001b[49m\u001b[43m \u001b[49m\u001b[43maxis_name\u001b[49m\u001b[43m)\u001b[49m\n\u001b[0;32m   6072\u001b[0m keyarr \u001b[38;5;241m=\u001b[39m \u001b[38;5;28mself\u001b[39m\u001b[38;5;241m.\u001b[39mtake(indexer)\n\u001b[0;32m   6073\u001b[0m \u001b[38;5;28;01mif\u001b[39;00m \u001b[38;5;28misinstance\u001b[39m(key, Index):\n\u001b[0;32m   6074\u001b[0m     \u001b[38;5;66;03m# GH 42790 - Preserve name from an Index\u001b[39;00m\n",
      "File \u001b[1;32m~\\anaconda3\\lib\\site-packages\\pandas\\core\\indexes\\base.py:6133\u001b[0m, in \u001b[0;36mIndex._raise_if_missing\u001b[1;34m(self, key, indexer, axis_name)\u001b[0m\n\u001b[0;32m   6130\u001b[0m     \u001b[38;5;28;01mraise\u001b[39;00m \u001b[38;5;167;01mKeyError\u001b[39;00m(\u001b[38;5;124mf\u001b[39m\u001b[38;5;124m\"\u001b[39m\u001b[38;5;124mNone of [\u001b[39m\u001b[38;5;132;01m{\u001b[39;00mkey\u001b[38;5;132;01m}\u001b[39;00m\u001b[38;5;124m] are in the [\u001b[39m\u001b[38;5;132;01m{\u001b[39;00maxis_name\u001b[38;5;132;01m}\u001b[39;00m\u001b[38;5;124m]\u001b[39m\u001b[38;5;124m\"\u001b[39m)\n\u001b[0;32m   6132\u001b[0m not_found \u001b[38;5;241m=\u001b[39m \u001b[38;5;28mlist\u001b[39m(ensure_index(key)[missing_mask\u001b[38;5;241m.\u001b[39mnonzero()[\u001b[38;5;241m0\u001b[39m]]\u001b[38;5;241m.\u001b[39munique())\n\u001b[1;32m-> 6133\u001b[0m \u001b[38;5;28;01mraise\u001b[39;00m \u001b[38;5;167;01mKeyError\u001b[39;00m(\u001b[38;5;124mf\u001b[39m\u001b[38;5;124m\"\u001b[39m\u001b[38;5;132;01m{\u001b[39;00mnot_found\u001b[38;5;132;01m}\u001b[39;00m\u001b[38;5;124m not in index\u001b[39m\u001b[38;5;124m\"\u001b[39m)\n",
      "\u001b[1;31mKeyError\u001b[0m: \"['megawatt'] not in index\""
     ]
    }
   ],
   "source": [
    "forecast_df[['megawatt','forecasted_megawatt']].plot(figsize=(12,8)) "
   ]
  },
  {
   "cell_type": "code",
   "execution_count": 91,
   "id": "c80572b4",
   "metadata": {},
   "outputs": [
    {
     "data": {
      "image/png": "[encoded data removed]",
      "text/plain": [
       "<Figure size 640x480 with 1 Axes>"
      ]
     },
     "metadata": {},
     "output_type": "display_data"
    }
   ],
   "source": [
    "import matplotlib.pyplot as plt\n",
    "\n",
    "# Plot the actual values\n",
    "plt.plot(test.index, test['megawatt'], label='Actual')\n",
    "\n",
    "# Plot the predicted values\n",
    "plt.plot(forecast_df.index, forecast_df['forecasted_megawatt'], label='Forecast')\n",
    "\n",
    "# Set the title, x-axis label, and y-axis label\n",
    "plt.title('Actual vs. Forecast')\n",
    "plt.xlabel('Date')\n",
    "plt.ylabel('Megawatt')\n",
    "\n",
    "# Add a legend\n",
    "plt.legend()\n",
    "\n",
    "# Show the plot\n",
    "plt.show()\n"
   ]
  },
  {
   "cell_type": "code",
   "execution_count": null,
   "id": "d5025dcf",
   "metadata": {},
   "outputs": [],
   "source": []
  },
  {
   "cell_type": "code",
   "execution_count": null,
   "id": "d234c25a",
   "metadata": {},
   "outputs": [],
   "source": []
  },
  {
   "cell_type": "code",
   "execution_count": 82,
   "id": "e3bcb038",
   "metadata": {},
   "outputs": [],
   "source": [
    "# SARIMA"
   ]
  },
  {
   "cell_type": "code",
   "execution_count": null,
   "id": "3e663f07",
   "metadata": {},
   "outputs": [],
   "source": []
  },
  {
   "cell_type": "code",
   "execution_count": 81,
   "id": "c4086965",
   "metadata": {},
   "outputs": [],
   "source": [
    "import statsmodels.api as sm"
   ]
  },
  {
   "cell_type": "code",
   "execution_count": 84,
   "id": "5a32e0b6",
   "metadata": {},
   "outputs": [
    {
     "name": "stderr",
     "output_type": "stream",
     "text": [
      "C:\\Users\\USER\\anaconda3\\lib\\site-packages\\statsmodels\\tsa\\base\\tsa_model.py:471: ValueWarning: No frequency information was provided, so inferred frequency 15T will be used.\n",
      "  self._init_dates(dates, freq)\n",
      "C:\\Users\\USER\\anaconda3\\lib\\site-packages\\statsmodels\\tsa\\base\\tsa_model.py:471: ValueWarning: No frequency information was provided, so inferred frequency 15T will be used.\n",
      "  self._init_dates(dates, freq)\n"
     ]
    }
   ],
   "source": [
    "model = sm.tmodel=sm.tsa.statespace.SARIMAX(dataset['megawatt'],order=(1, 1, 0),seasonal_order=(1,1,1,12))\n",
    "results=model.fit()"
   ]
  },
  {
   "cell_type": "code",
   "execution_count": null,
   "id": "bc6262af",
   "metadata": {},
   "outputs": [],
   "source": [
    "final_data['forecast'] = results.predict(start=100,end = 167,dynamic=True)\n",
    "final_data[['AEP_MW','forecast']].plot(figsize=(12,8))"
   ]
  },
  {
   "cell_type": "code",
   "execution_count": null,
   "id": "b701e225",
   "metadata": {},
   "outputs": [],
   "source": []
  },
  {
   "cell_type": "code",
   "execution_count": null,
   "id": "c551cc68",
   "metadata": {},
   "outputs": [],
   "source": []
  }
 ],
 "metadata": {
  "kernelspec": {
   "display_name": "Python 3 (ipykernel)",
   "language": "python",
   "name": "python3"
  },
  "language_info": {
   "codemirror_mode": {
    "name": "ipython",
    "version": 3
   },
   "file_extension": ".py",
   "mimetype": "text/x-python",
   "name": "python",
   "nbconvert_exporter": "python",
   "pygments_lexer": "ipython3",
   "version": "3.8.16"
  }
 },
 "nbformat": 4,
 "nbformat_minor": 5
}
